{
  "nbformat": 4,
  "nbformat_minor": 0,
  "metadata": {
    "colab": {
      "provenance": [],
      "authorship_tag": "ABX9TyMpoKJr47/LK2LEM/2MMCHl",
      "include_colab_link": true
    },
    "kernelspec": {
      "name": "python3",
      "display_name": "Python 3"
    },
    "language_info": {
      "name": "python"
    }
  },
  "cells": [
    {
      "cell_type": "markdown",
      "metadata": {
        "id": "view-in-github",
        "colab_type": "text"
      },
      "source": [
        "<a href=\"https://colab.research.google.com/github/bhashi2802/prodigy-4/blob/main/Untitled5.ipynb\" target=\"_parent\"><img src=\"https://colab.research.google.com/assets/colab-badge.svg\" alt=\"Open In Colab\"/></a>"
      ]
    },
    {
      "cell_type": "code",
      "execution_count": null,
      "metadata": {
        "id": "gSesBdlVTqGw"
      },
      "outputs": [],
      "source": [
        "{\n",
        "  \"nbformat\": 4,\n",
        "  \"nbformat_minor\": 0,\n",
        "  \"metadata\": {\n",
        "    \"colab\": {\n",
        "      \"provenance\": [],\n",
        "      \"authorship_tag\": \"ABX9TyNkCD5AHPXrFJqifdvzHlQw\",\n",
        "      \"include_colab_link\": true\n",
        "    },\n",
        "    \"kernelspec\": {\n",
        "      \"name\": \"python3\",\n",
        "      \"display_name\": \"Python 3\"\n",
        "    },\n",
        "    \"language_info\": {\n",
        "      \"name\": \"python\"\n",
        "    }\n",
        "  },\n",
        "  \"cells\": [\n",
        "    {\n",
        "      \"cell_type\": \"markdown\",\n",
        "      \"metadata\": {\n",
        "        \"id\": \"view-in-github\",\n",
        "        \"colab_type\": \"text\"\n",
        "      },\n",
        "      \"source\": [\n",
        "        \"<a href=\\\"https://colab.research.google.com/github/bhashi2802/prodigy-info-tech/blob/main/task_4.ipynb\\\" target=\\\"_parent\\\"><img src=\\\"https://colab.research.google.com/assets/colab-badge.svg\\\" alt=\\\"Open In Colab\\\"/></a>\"\n",
        "      ]\n",
        "    },\n",
        "    {\n",
        "      \"cell_type\": \"code\",\n",
        "      \"execution_count\": null,\n",
        "      \"metadata\": {\n",
        "        \"id\": \"7AgxLnBRbL12\"\n",
        "      },\n",
        "      \"outputs\": [],\n",
        "      \"source\": [\n",
        "        \"from scapy.all import sniff, IP, TCP, UDP, Raw\\n\",\n",
        "        \"import textwrap\\n\",\n",
        "        \"\\n\",\n",
        "        \"def format_payload(payload):\\n\",\n",
        "        \"    \\\"\\\"\\\" Format payload for better readability. \\\"\\\"\\\"\\n\",\n",
        "        \"    if isinstance(payload, bytes):\\n\",\n",
        "        \"        return textwrap.fill(payload.decode(errors='ignore'), width=50)\\n\",\n",
        "        \"    return str(payload)\\n\",\n",
        "        \"\\n\",\n",
        "        \"def packet_callback(packet):\\n\",\n",
        "        \"    \\\"\\\"\\\" Callback function to process each packet. \\\"\\\"\\\"\\n\",\n",
        "        \"    if IP in packet:\\n\",\n",
        "        \"        ip_layer = packet[IP]\\n\",\n",
        "        \"        src_ip = ip_layer.src\\n\",\n",
        "        \"        dst_ip = ip_layer.dst\\n\",\n",
        "        \"        protocol = ip_layer.proto\\n\",\n",
        "        \"\\n\",\n",
        "        \"        print(f\\\"Source IP: {src_ip}\\\")\\n\",\n",
        "        \"        print(f\\\"Destination IP: {dst_ip}\\\")\\n\",\n",
        "        \"        print(f\\\"Protocol: {protocol}\\\")\\n\",\n",
        "        \"\\n\",\n",
        "        \"        if TCP in packet:\\n\",\n",
        "        \"            tcp_layer = packet[TCP]\\n\",\n",
        "        \"            print(f\\\"Source Port: {tcp_layer.sport}\\\")\\n\",\n",
        "        \"            print(f\\\"Destination Port: {tcp_layer.dport}\\\")\\n\",\n",
        "        \"\\n\",\n",
        "        \"        elif UDP in packet:\\n\",\n",
        "        \"            udp_layer = packet[UDP]\\n\",\n",
        "        \"            print(f\\\"Source Port: {udp_layer.sport}\\\")\\n\",\n",
        "        \"            print(f\\\"Destination Port: {udp_layer.dport}\\\")\\n\",\n",
        "        \"\\n\",\n",
        "        \"        if Raw in packet:\\n\",\n",
        "        \"            payload = packet[Raw].load\\n\",\n",
        "        \"            print(f\\\"Payload:\\\\n{format_payload(payload)}\\\")\\n\",\n",
        "        \"\\n\",\n",
        "        \"        print(\\\"-\\\" * 50)\\n\",\n",
        "        \"\\n\",\n",
        "        \"def main():\\n\",\n",
        "        \"    \\\"\\\"\\\" Main function to start packet sniffing. \\\"\\\"\\\"\\n\",\n",
        "        \"    print(\\\"Starting packet sniffer...\\\")\\n\",\n",
        "        \"    sniff(prn=packet_callback, store=0)\\n\",\n",
        "        \"\\n\",\n",
        "        \"if __name__ == \\\"__main__\\\":\\n\",\n",
        "        \"    main()\\n\"\n",
        "      ]\n",
        "    }\n",
        "  ]\n",
        "}"
      ]
    }
  ]
}